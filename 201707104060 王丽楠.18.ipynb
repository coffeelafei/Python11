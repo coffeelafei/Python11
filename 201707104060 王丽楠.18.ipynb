{
 "cells": [
  {
   "cell_type": "markdown",
   "metadata": {},
   "source": [
    "# 选择\n",
    "## 布尔类型、数值和表达式\n",
    "![](../Photo/33.png)\n",
    "- 注意：比较运算符的相等是两个等号，一个等到代表赋值\n",
    "- 在Python中可以用整型0来代表False，其他数字来代表True\n",
    "- 后面还会讲到 is 在判断语句中的用发"
   ]
  },
  {
   "cell_type": "code",
   "execution_count": 2,
   "metadata": {},
   "outputs": [
    {
     "data": {
      "text/plain": [
       "False"
      ]
     },
     "execution_count": 2,
     "metadata": {},
     "output_type": "execute_result"
    }
   ],
   "source": [
    "a = 1\n",
    "b = '2'\n",
    "a == b"
   ]
  },
  {
   "cell_type": "code",
   "execution_count": 3,
   "metadata": {},
   "outputs": [
    {
     "data": {
      "text/plain": [
       "False"
      ]
     },
     "execution_count": 3,
     "metadata": {},
     "output_type": "execute_result"
    }
   ],
   "source": [
    "0 is 1"
   ]
  },
  {
   "cell_type": "code",
   "execution_count": 4,
   "metadata": {},
   "outputs": [
    {
     "data": {
      "text/plain": [
       "True"
      ]
     },
     "execution_count": 4,
     "metadata": {},
     "output_type": "execute_result"
    }
   ],
   "source": [
    "a = 'joker'\n",
    "b = 'hahah'\n",
    "a>b"
   ]
  },
  {
   "cell_type": "markdown",
   "metadata": {},
   "source": [
    "# 字符串的比较使用ASCII值"
   ]
  },
  {
   "cell_type": "markdown",
   "metadata": {},
   "source": [
    "## Markdown \n",
    "- https://github.com/younghz/Markdown"
   ]
  },
  {
   "cell_type": "markdown",
   "metadata": {},
   "source": [
    "## EP:\n",
    "- <img src=\"../Photo/34.png\"></img>\n",
    "- 输入一个数字，判断其实奇数还是偶数"
   ]
  },
  {
   "cell_type": "code",
   "execution_count": 7,
   "metadata": {},
   "outputs": [
    {
     "data": {
      "text/plain": [
       "1"
      ]
     },
     "execution_count": 7,
     "metadata": {},
     "output_type": "execute_result"
    }
   ],
   "source": [
    "int(True)"
   ]
  },
  {
   "cell_type": "code",
   "execution_count": 8,
   "metadata": {},
   "outputs": [
    {
     "data": {
      "text/plain": [
       "0"
      ]
     },
     "execution_count": 8,
     "metadata": {},
     "output_type": "execute_result"
    }
   ],
   "source": [
    "int(False)"
   ]
  },
  {
   "cell_type": "code",
   "execution_count": 18,
   "metadata": {},
   "outputs": [
    {
     "name": "stdout",
     "output_type": "stream",
     "text": [
      "n:>>23\n",
      "该数字为奇数\n"
     ]
    }
   ],
   "source": [
    "n = eval(input('n:>>'))\n",
    "if n%2==0:\n",
    "    print('该数字为偶数')\n",
    "if n%2==1:\n",
    "    print('该数字为奇数')"
   ]
  },
  {
   "cell_type": "markdown",
   "metadata": {},
   "source": [
    "## 产生随机数字\n",
    "- 函数random.randint(a,b) 可以用来产生一个a和b之间且包括a和b的随机整数"
   ]
  },
  {
   "cell_type": "code",
   "execution_count": 19,
   "metadata": {},
   "outputs": [],
   "source": [
    "import random"
   ]
  },
  {
   "cell_type": "code",
   "execution_count": 20,
   "metadata": {},
   "outputs": [
    {
     "data": {
      "text/plain": [
       "2"
      ]
     },
     "execution_count": 20,
     "metadata": {},
     "output_type": "execute_result"
    }
   ],
   "source": [
    "random.randint(2,3)"
   ]
  },
  {
   "cell_type": "markdown",
   "metadata": {},
   "source": [
    "产生一个随机数，你去输入，如果你输入的数大于随机数，那么就告诉你太大了，反之，太小了，\n",
    "然后你一直输入，知道它满意为止"
   ]
  },
  {
   "cell_type": "code",
   "execution_count": 29,
   "metadata": {},
   "outputs": [],
   "source": [
    "x=random.randint(25,65)"
   ]
  },
  {
   "cell_type": "code",
   "execution_count": null,
   "metadata": {},
   "outputs": [],
   "source": [
    "import os"
   ]
  },
  {
   "cell_type": "code",
   "execution_count": 30,
   "metadata": {},
   "outputs": [
    {
     "ename": "SyntaxError",
     "evalue": "invalid syntax (<ipython-input-30-8f5ece1ffee7>, line 2)",
     "output_type": "error",
     "traceback": [
      "\u001b[1;36m  File \u001b[1;32m\"<ipython-input-30-8f5ece1ffee7>\"\u001b[1;36m, line \u001b[1;32m2\u001b[0m\n\u001b[1;33m    if n>6 random.randint(25,65):\u001b[0m\n\u001b[1;37m                ^\u001b[0m\n\u001b[1;31mSyntaxError\u001b[0m\u001b[1;31m:\u001b[0m invalid syntax\n"
     ]
    }
   ],
   "source": [
    "y = eval(input('请输入一个数字'))\n",
    "if y>x:\n",
    "    print('太大了')\n",
    "    os.system('say too bigger')\n",
    "if y<x:\n",
    "    print('太小了')\n",
    "    os.system('say too small')\n",
    "if y==x:\n",
    "    print('满意')\n",
    "    os.system('say correct')"
   ]
  },
  {
   "cell_type": "markdown",
   "metadata": {},
   "source": [
    "##  其他random方法\n",
    "- random.random 返回0.0到1.0之间前闭后开区间的随机浮点\n",
    "- random.randrange(a,b) 前闭后开"
   ]
  },
  {
   "cell_type": "markdown",
   "metadata": {},
   "source": [
    "## EP：\n",
    "- 产生两个随机整数number1和number2，然后显示给用户，使用户输入数字的和，并判定其是否正确\n",
    "- 进阶:写一个随机序号点名程序"
   ]
  },
  {
   "cell_type": "code",
   "execution_count": 49,
   "metadata": {},
   "outputs": [],
   "source": [
    "import random"
   ]
  },
  {
   "cell_type": "code",
   "execution_count": 50,
   "metadata": {},
   "outputs": [
    {
     "name": "stdout",
     "output_type": "stream",
     "text": [
      "2 5\n",
      "请输入一个数字12\n",
      "不正确\n"
     ]
    }
   ],
   "source": [
    "x=random.randrange(2,5) \n",
    "y=random.randrange(5,6)\n",
    "print(x,y)\n",
    "n=eval(input('请输入一个数字'))\n",
    "if n!=x+y:\n",
    "        print('不正确')"
   ]
  },
  {
   "cell_type": "code",
   "execution_count": null,
   "metadata": {},
   "outputs": [],
   "source": [
    "x = eval(input('请输入一个数字'))\n"
   ]
  },
  {
   "cell_type": "markdown",
   "metadata": {},
   "source": [
    "## if语句\n",
    "- 如果条件正确就执行一个单向if语句，亦即当条件为真的时候才执行if内部的语句\n",
    "- Python有很多选择语句:\n",
    "> - 单向if \n",
    "  - 双向if-else\n",
    "  - 嵌套if\n",
    "  - 多向if-elif-else\n",
    "  \n",
    "- 注意：当语句含有子语句的时候，那么一定至少要有一个缩进，也就是说如果有儿子存在，那么一定要缩进\n",
    "- 切记不可tab键和space混用，单用tab 或者 space\n",
    "- 当你输出的结果是无论if是否为真时都需要显示时，语句应该与if对齐"
   ]
  },
  {
   "cell_type": "code",
   "execution_count": 5,
   "metadata": {},
   "outputs": [
    {
     "name": "stdout",
     "output_type": "stream",
     "text": [
      "是否有钱[y/n]y\n",
      "再问一个问题\n",
      "帅不帅[y/n]y\n",
      "非常关键的一个问题\n",
      "是否有妻子[y/n]y\n",
      "不拒绝\n"
     ]
    }
   ],
   "source": [
    "money = input(\"是否有钱[y/n]\")\n",
    "if money == \"y\":\n",
    "    print(\"再问一个问题\")\n",
    "    handsome = input(\"帅不帅[y/n]\")\n",
    "    if handsome == \"y\":\n",
    "        print(\"非常关键的一个问题\")\n",
    "        wife = input(\"是否有妻子[y/n]\")\n",
    "        if wife == \"y\":\n",
    "            print(\"不拒绝\")\n",
    "        else:\n",
    "            print(\"马上结婚\")\n",
    "    else:\n",
    "        print(\"考虑一下\")\n",
    "else:\n",
    "    print(\"Gun~\")"
   ]
  },
  {
   "cell_type": "code",
   "execution_count": 15,
   "metadata": {},
   "outputs": [
    {
     "name": "stdout",
     "output_type": "stream",
     "text": [
      "钱？[0/1]1\n",
      "帅？[0/1]1\n",
      "老婆？[0/1]1\n",
      "有老婆也要考虑一下\n"
     ]
    }
   ],
   "source": [
    "x1=eval(input('钱？[0/1]'))\n",
    "x2=eval(input('帅？[0/1]'))\n",
    "x3=eval(input('老婆？[0/1]'))\n",
    "x = x1+x2+x3\n",
    "if x==0:\n",
    "    print('滚')\n",
    "if x==2:\n",
    "    if x3==0:\n",
    "        print('马上结婚')\n",
    "    elif x2==0:\n",
    "        print('考虑一下')\n",
    "    elif x1==0:\n",
    "        print('滚')\n",
    "elif x==3:\n",
    "    print('有老婆也要考虑一下')"
   ]
  },
  {
   "cell_type": "code",
   "execution_count": 6,
   "metadata": {},
   "outputs": [
    {
     "name": "stdout",
     "output_type": "stream",
     "text": [
      "B\n"
     ]
    }
   ],
   "source": [
    "score = 80\n",
    "if score >= 90:\n",
    "    grad = \"A\"\n",
    "elif score >= 80:\n",
    "    grad = \"B\"\n",
    "elif score >= 70:\n",
    "    grad = \"D\"\n",
    "    \n",
    "print(grad)"
   ]
  },
  {
   "cell_type": "markdown",
   "metadata": {},
   "source": [
    "## EP：\n",
    "- 用户输入一个数字，判断其实奇数还是偶数\n",
    "- 进阶：可以查看下4.5实例研究猜生日"
   ]
  },
  {
   "cell_type": "markdown",
   "metadata": {},
   "source": [
    "## 双向if-else 语句\n",
    "- 如果条件为真，那么走if内部语句，否则走else内部语句"
   ]
  },
  {
   "cell_type": "markdown",
   "metadata": {},
   "source": [
    "## EP：\n",
    "- 产生两个随机整数number1和number2，然后显示给用户，使用户输入数字，并判定其是否正确,如果正确打印“you‘re correct”，否则打印正确错误"
   ]
  },
  {
   "cell_type": "markdown",
   "metadata": {},
   "source": [
    "## 嵌套if 和多向if-elif-else\n",
    "![](../Photo/35.png)"
   ]
  },
  {
   "cell_type": "code",
   "execution_count": 7,
   "metadata": {},
   "outputs": [
    {
     "name": "stdout",
     "output_type": "stream",
     "text": [
      "B\n"
     ]
    }
   ],
   "source": [
    "score = 80\n",
    "if score >= 90:\n",
    "    grad = \"A\"\n",
    "elif score >= 80:\n",
    "    grad = \"B\"\n",
    "elif score >= 70:\n",
    "    grad = \"D\"\n",
    "    \n",
    "print(grad)"
   ]
  },
  {
   "cell_type": "markdown",
   "metadata": {},
   "source": [
    "## EP：\n",
    "- 提示用户输入一个年份，然后显示表示这一年的动物\n",
    "![](../Photo/36.png)\n",
    "- 计算身体质量指数的程序\n",
    "- BMI = 以千克为单位的体重除以以米为单位的身高的平方\n",
    "![](../Photo/37.png)"
   ]
  },
  {
   "cell_type": "code",
   "execution_count": null,
   "metadata": {},
   "outputs": [],
   "source": [
    "身高 = eval(input('身高'))\n",
    "体重 = eval(input('体重'))\n",
    "BMI = 体重 / 身高 **2\n",
    "if BMI<18.5"
   ]
  },
  {
   "cell_type": "code",
   "execution_count": 14,
   "metadata": {},
   "outputs": [
    {
     "name": "stdout",
     "output_type": "stream",
     "text": [
      "请输入年份1998\n",
      "6\n",
      "虎\n"
     ]
    }
   ],
   "source": [
    "year = input('请输入年份')\n",
    "year = int(year)\n",
    "c = year %12\n",
    "print(c)\n",
    "if c==0:\n",
    "    grade='猴'\n",
    "elif c==1:\n",
    "    grade='鸡'\n",
    "elif c==2:\n",
    "    grade='狗'\n",
    "elif c==3:\n",
    "    grade='猪'\n",
    "elif c==4:\n",
    "    grade='鼠'\n",
    "elif c==5:\n",
    "    grade='牛'\n",
    "elif c==6:\n",
    "    grade='虎'\n",
    "elif c==7:\n",
    "    grade='兔'\n",
    "elif c==8:\n",
    "    grade='龙'\n",
    "elif c==9:\n",
    "    grade='蛇'\n",
    "elif c==10:\n",
    "    grade='马'\n",
    "elif c==11:\n",
    "    grade='羊'\n",
    "print(grade)"
   ]
  },
  {
   "cell_type": "code",
   "execution_count": null,
   "metadata": {},
   "outputs": [],
   "source": []
  },
  {
   "cell_type": "markdown",
   "metadata": {},
   "source": [
    "![](../Photo/39.png)\n",
    "![](../Photo/40.png)"
   ]
  },
  {
   "cell_type": "markdown",
   "metadata": {},
   "source": [
    "## EP：\n",
    "- 判定闰年：一个年份如果能被4整除但不能被100整除，或者能被400整除，那么这个年份就是闰年\n",
    "- 提示用户输入一个年份，并返回是否是闰年\n",
    "- 提示用户输入一个数字，判断其是否为水仙花数"
   ]
  },
  {
   "cell_type": "code",
   "execution_count": 23,
   "metadata": {},
   "outputs": [
    {
     "name": "stdout",
     "output_type": "stream",
     "text": [
      "请输入年份2007\n",
      "3\n",
      "不是闰年\n"
     ]
    }
   ],
   "source": [
    "year = input('请输入年份')\n",
    "year = int(year)\n",
    "c = year %4\n",
    "print(c)\n",
    "if c==0:\n",
    "    print('闰年')\n",
    "if c!=0:\n",
    "    print('不是闰年')"
   ]
  },
  {
   "cell_type": "code",
   "execution_count": 25,
   "metadata": {},
   "outputs": [
    {
     "ename": "SyntaxError",
     "evalue": "invalid syntax (<ipython-input-25-5b6cb7669fdc>, line 6)",
     "output_type": "error",
     "traceback": [
      "\u001b[1;36m  File \u001b[1;32m\"<ipython-input-25-5b6cb7669fdc>\"\u001b[1;36m, line \u001b[1;32m6\u001b[0m\n\u001b[1;33m    if a=0and b!=0or c=0:\u001b[0m\n\u001b[1;37m        ^\u001b[0m\n\u001b[1;31mSyntaxError\u001b[0m\u001b[1;31m:\u001b[0m invalid syntax\n"
     ]
    }
   ],
   "source": [
    "year = eval(input('请输入年份')）\n",
    "year = int(year)\n",
    "a = year %4\n",
    "b = year %100\n",
    "c = year %400\n",
    "if a=0and b!=0or c=0:\n",
    "    print('闰年')"
   ]
  },
  {
   "cell_type": "code",
   "execution_count": 30,
   "metadata": {},
   "outputs": [
    {
     "name": "stdout",
     "output_type": "stream",
     "text": [
      "数字153\n",
      "水仙花\n"
     ]
    }
   ],
   "source": [
    "number =eval( input('数字'))\n",
    "bai = number // 100\n",
    "shi = number // 10 % 10\n",
    "ge = number %10\n",
    "if bai **3 + shi **3 + ge **3 ==number:\n",
    "    print('水仙花')"
   ]
  },
  {
   "cell_type": "code",
   "execution_count": 39,
   "metadata": {},
   "outputs": [
    {
     "name": "stdout",
     "output_type": "stream",
     "text": [
      "153 水仙花\n",
      "370 水仙花\n",
      "371 水仙花\n",
      "407 水仙花\n"
     ]
    }
   ],
   "source": [
    "for number in range(100,999): \n",
    "    bai = number // 100\n",
    "    shi = number // 10 % 10\n",
    "    ge = number %10\n",
    "    if bai **3 + shi **3 + ge **3 ==number:\n",
    "        print(number,'水仙花')"
   ]
  },
  {
   "cell_type": "markdown",
   "metadata": {},
   "source": [
    "## 实例研究：彩票\n",
    "![](../Photo/41.png)"
   ]
  },
  {
   "cell_type": "code",
   "execution_count": 1,
   "metadata": {},
   "outputs": [
    {
     "name": "stdout",
     "output_type": "stream",
     "text": [
      "12\n",
      "请输入一个两位数21\n",
      "奖金3000元\n"
     ]
    }
   ],
   "source": [
    "import random\n",
    "n = random.randint(10,99)\n",
    "print (n)\n",
    "a = eval(input('请输入一个两位数'))\n",
    "shi1 = n// 10 % 10\n",
    "ge1 = n%10\n",
    "shi2 = a// 10 % 10\n",
    "ge2 = a%10\n",
    "if a == n:\n",
    "    print('奖金10000元')\n",
    "if (shi1==ge2) and (ge1==shi2):\n",
    "    print('奖金3000元')\n",
    "if ((shi1==shi2)and (shi1 != shi2))or ((shi1==ge2)and (shi1 != ge2)):\n",
    "    print ('奖金为1000')"
   ]
  },
  {
   "cell_type": "markdown",
   "metadata": {},
   "source": [
    "# Homework\n",
    "- 1\n",
    "![](../Photo/42.png)"
   ]
  },
  {
   "cell_type": "code",
   "execution_count": 10,
   "metadata": {},
   "outputs": [],
   "source": [
    "import math"
   ]
  },
  {
   "cell_type": "code",
   "execution_count": 11,
   "metadata": {},
   "outputs": [
    {
     "name": "stdout",
     "output_type": "stream",
     "text": [
      "请输入数字1\n",
      "请输入数字3\n",
      "请输入数字1\n",
      "the roors are -0.3819660112501051 and -2.618033988749895\n"
     ]
    }
   ],
   "source": [
    "a = eval(input('请输入数字'))\n",
    "b = eval(input('请输入数字'))\n",
    "c = eval(input('请输入数字'))\n",
    "x1 = b*b-4*a*c\n",
    "if x1>=0:\n",
    "    r1 = (-b+(b*b-4*a*c)**0.5)/2*a \n",
    "    r2 = (-b-(b*b-4*a*c)**0.5)/2*a\n",
    "    print('the roors are',r1,'and',r2)\n",
    "elif x1==0:\n",
    "    r3 = -b/2*a\n",
    "    print('the roor is',r3)\n",
    "else:\n",
    "    print('The equatinon has no real roots')\n",
    "   "
   ]
  },
  {
   "cell_type": "markdown",
   "metadata": {},
   "source": [
    "- 2\n",
    "![](../Photo/43.png)"
   ]
  },
  {
   "cell_type": "code",
   "execution_count": 18,
   "metadata": {},
   "outputs": [],
   "source": [
    "import random"
   ]
  },
  {
   "cell_type": "code",
   "execution_count": 19,
   "metadata": {},
   "outputs": [
    {
     "name": "stdout",
     "output_type": "stream",
     "text": [
      "96 45\n",
      "请输入一个数字143\n",
      "结果不正确\n"
     ]
    }
   ],
   "source": [
    "x = random.randrange(0,100)\n",
    "y = random.randrange(0,100)\n",
    "print(x,y)\n",
    "n = eval(input('请输入一个数字'))\n",
    "if n==x+y:\n",
    "    print('结果为真')\n",
    "else :\n",
    "    print('结果不正确')"
   ]
  },
  {
   "cell_type": "markdown",
   "metadata": {},
   "source": [
    "- 3\n",
    "![](../Photo/44.png)"
   ]
  },
  {
   "cell_type": "code",
   "execution_count": 8,
   "metadata": {},
   "outputs": [
    {
     "name": "stdout",
     "output_type": "stream",
     "text": [
      "请输入今天的数字1\n",
      "plus_day3\n",
      "4\n"
     ]
    }
   ],
   "source": [
    "day = eval(input('请输入今天的数字'))\n",
    "plus_day = eval(input('plus_day'))\n",
    "result = (day + plus_day)%7\n",
    "print(result)"
   ]
  },
  {
   "cell_type": "markdown",
   "metadata": {},
   "source": [
    "- 4\n",
    "![](../Photo/45.png)"
   ]
  },
  {
   "cell_type": "code",
   "execution_count": 22,
   "metadata": {},
   "outputs": [
    {
     "name": "stdout",
     "output_type": "stream",
     "text": [
      "请输入一个整数12\n",
      "请输入一个整数23\n",
      "请输入一个整数21\n",
      "[12, 21, 23]\n"
     ]
    }
   ],
   "source": [
    "n1  = eval(input('请输入一个整数'))\n",
    "n2  = eval(input('请输入一个整数'))\n",
    "n3  = eval(input('请输入一个整数'))\n",
    "a = [n1,n2,n3]\n",
    "a.sort()\n",
    "print(a)"
   ]
  },
  {
   "cell_type": "markdown",
   "metadata": {},
   "source": [
    "- 5\n",
    "![](../Photo/46.png)"
   ]
  },
  {
   "cell_type": "code",
   "execution_count": 25,
   "metadata": {},
   "outputs": [
    {
     "name": "stdout",
     "output_type": "stream",
     "text": [
      "请输入重量50\n",
      "请输入价格24.59\n",
      "请输入重量25\n",
      "请输入价格11.99\n",
      "package 2 has the better price\n"
     ]
    }
   ],
   "source": [
    "n1  = eval(input('请输入重量'))\n",
    "n2  = eval(input('请输入价格'))\n",
    "x1  = eval(input('请输入重量'))\n",
    "x2 = eval(input('请输入价格'))\n",
    "package_1=( n2/n1)\n",
    "package_2=( x2/x1)\n",
    "if package_1>package_2:\n",
    "    print('package 2 has the better price')\n",
    "else :\n",
    "    print('package 1 has the better price') "
   ]
  },
  {
   "cell_type": "markdown",
   "metadata": {},
   "source": [
    "- 6\n",
    "![](../Photo/47.png)"
   ]
  },
  {
   "cell_type": "code",
   "execution_count": 2,
   "metadata": {},
   "outputs": [
    {
     "name": "stdout",
     "output_type": "stream",
     "text": [
      "请输入年2000\n",
      "请输入月2\n",
      "该月有29天\n",
      "请输入年2005\n",
      "请输入月3\n",
      "该月有31天\n"
     ]
    }
   ],
   "source": [
    "year = eval(input('请输入年'))\n",
    "year = int(year)\n",
    "c = year %4\n",
    "if c==0:\n",
    "    month = eval(input('请输入月'))\n",
    "if month==1:\n",
    "    print('该月有31天')\n",
    "if month==2:\n",
    "    print('该月有29天')\n",
    "if  month==3:\n",
    "    print('该月有31天')\n",
    "if    month==4:\n",
    "    print('该月有30天')\n",
    "if   month==5:\n",
    "    print('该月有31天')\n",
    "if    month==6:\n",
    "    print('该月有30天')\n",
    "if    month==7:\n",
    "    print('该月有31天')\n",
    "if    month==8:\n",
    "    print('该月有31天')\n",
    "if    month==9:\n",
    "    print('该月有30天')\n",
    "if    month==10:\n",
    "    print('该月有31天')\n",
    "if    month==11:\n",
    "    print('该月有30天')\n",
    "if    month==12:\n",
    "    print('该月有31天')\n",
    "else :\n",
    "    year = eval(input('请输入年'))\n",
    "year = int(year)\n",
    "c = year %4\n",
    "if c!=0:\n",
    "    month = eval(input('请输入月'))\n",
    "if month==1:\n",
    "    print('该月有31天')\n",
    "if month==2:\n",
    "    print('该月有28天')\n",
    "if  month==3:\n",
    "    print('该月有31天')\n",
    "if    month==4:\n",
    "    print('该月有30天')\n",
    "if   month==5:\n",
    "    print('该月有31天')\n",
    "if    month==6:\n",
    "    print('该月有30天')\n",
    "if    month==7:\n",
    "    print('该月有31天')\n",
    "if    month==8:\n",
    "    print('该月有31天')\n",
    "if    month==9:\n",
    "    print('该月有30天')\n",
    "if    month==10:\n",
    "    print('该月有31天')\n",
    "if    month==11:\n",
    "    print('该月有30天')\n",
    "if    month==12:\n",
    "    print('该月有31天')\n"
   ]
  },
  {
   "cell_type": "markdown",
   "metadata": {},
   "source": [
    "- 7\n",
    "![](../Photo/48.png)"
   ]
  },
  {
   "cell_type": "code",
   "execution_count": 26,
   "metadata": {},
   "outputs": [
    {
     "name": "stdout",
     "output_type": "stream",
     "text": [
      "请输入正反[0/1]1\n",
      "错误\n"
     ]
    }
   ],
   "source": [
    "a  = eval(input('请输入正反[0/1]'))\n",
    "if a==0:\n",
    "    print('正确')\n",
    "else:\n",
    "    print('错误')"
   ]
  },
  {
   "cell_type": "markdown",
   "metadata": {},
   "source": [
    "- 8\n",
    "![](../Photo/49.png)"
   ]
  },
  {
   "cell_type": "code",
   "execution_count": 16,
   "metadata": {},
   "outputs": [
    {
     "name": "stdout",
     "output_type": "stream",
     "text": [
      "请输入剪刀，石头，布[0/1/2]1\n",
      "You won\n"
     ]
    }
   ],
   "source": [
    "import random\n",
    "n = random.randint(0,2)\n",
    "a  = eval(input('请输入剪刀，石头，布[0/1/2]'))\n",
    "if(a==0 and n==2)or(a==1 and n==0)or(a==1 and n==2):\n",
    "    print('You won')\n",
    "elif (a==0 and n==0)or(a==1 and n==1)or(a==2 and n==2):\n",
    "    print('It is draw')\n",
    "else:\n",
    "    print('You lost')\n"
   ]
  },
  {
   "cell_type": "markdown",
   "metadata": {},
   "source": [
    "- 9\n",
    "![](../Photo/50.png)"
   ]
  },
  {
   "cell_type": "code",
   "execution_count": 7,
   "metadata": {},
   "outputs": [
    {
     "name": "stdout",
     "output_type": "stream",
     "text": [
      "请输入年2013\n",
      "请输入月1\n",
      "请输入日25\n",
      "Day of the week is Thurday\n"
     ]
    }
   ],
   "source": [
    "year = eval(input('请输入年'))\n",
    "month = eval(input('请输入月'))\n",
    "day= eval(input('请输入日'))\n",
    "if h//1==3:\n",
    "    print('Day of the week is Tuesday')\n",
    "if h//1==4:\n",
    "    print('Day of the week is Wednesday')\n",
    "if h//1==5:\n",
    "    print('Day of the week is Thurday')\n",
    "if h//1==6:\n",
    "    print('Day of the week is Friday')\n",
    "if h//1==0:\n",
    "    print('Day of the week is Saturday')\n",
    "if h//1==1:\n",
    "    print('Day of the week is Sunday')"
   ]
  },
  {
   "cell_type": "markdown",
   "metadata": {},
   "source": [
    "- 10\n",
    "![](../Photo/51.png)"
   ]
  },
  {
   "cell_type": "code",
   "execution_count": 4,
   "metadata": {},
   "outputs": [],
   "source": [
    "import random"
   ]
  },
  {
   "cell_type": "code",
   "execution_count": 5,
   "metadata": {},
   "outputs": [
    {
     "name": "stdout",
     "output_type": "stream",
     "text": [
      "The card you picked is the King of Spade\n"
     ]
    }
   ],
   "source": [
    "x =random.randint(0,51)\n",
    "if x==0:\n",
    "    print('The card you picked is the Jack of Hearts')\n",
    "elif x==1:\n",
    "    print('The card you picked is the Jack of Plum Blossom')\n",
    "elif x ==2:\n",
    "    print('The card you picked is the Jack of diamond')\n",
    "elif x==3:\n",
    "    print('The card you picked is the Jack of Spade')\n",
    "elif x==4:\n",
    "    print('The card you picked is the Ace of Hearts')\n",
    "elif x==5:\n",
    "    print('The card you picked is the Ace of Plum Blossom')\n",
    "elif x==6:\n",
    "     print('The card you picked is the Ace of diamond')\n",
    "elif x==7:\n",
    "     print('The card you picked is the Ace of Spade')\n",
    "elif x ==8:\n",
    "     print('The card you picked is the 2 of Hearts')\n",
    "elif x==9:\n",
    "     print('The card you picked is the 2 of Plum Blossom')\n",
    "elif x==10:\n",
    "     print('The card you picked is the 2 of diamond')\n",
    "elif x==11:\n",
    "    print('The card you picked is the 2 of Spade')\n",
    "elif x==12:\n",
    "    print('The card you picked is the 3 of Hearts')\n",
    "elif x==13:\n",
    "    print('The card you picked is the 3 of Plum Blossom')\n",
    "elif x==14:\n",
    "    print('The card you picked is the 3 of diamond')\n",
    "elif x==15:\n",
    "    print('The card you picked is the 3 of Spade')\n",
    "elif x==16:\n",
    "    print('The card you picked is the 4 of Hearts')\n",
    "elif x==17:\n",
    "    print('The card you picked is the 4 of Plum Blossom')\n",
    "elif x==18:\n",
    "     print('The card you picked is the 4 of diamond')\n",
    "elif x==19:\n",
    "    print('The card you picked is the 4 of Spade')\n",
    "elif x==20:\n",
    "     print('The card you picked is the 5 of Hearts')\n",
    "elif x==21:\n",
    "    print('The card you picked is the 5 of Plum Blossom')\n",
    "elif x==22:\n",
    "    print('The card you picked is the 5 of diamond')\n",
    "elif x==23:\n",
    "     print('The card you picked is the 5 of Spade')\n",
    "elif x==24:\n",
    "     print('The card you picked is the 6 of Hearts')\n",
    "elif x==25:\n",
    "    print('The card you picked is the 6 of Plum Blossom')\n",
    "elif x==26:\n",
    "     print('The card you picked is the 6 of diamond')\n",
    "elif x==27:\n",
    "     print('The card you picked is the 6 of Spade')\n",
    "elif x==28:\n",
    "    print('The card you picked is the 7 of Hearts')\n",
    "elif x==29:\n",
    "     print('The card you picked is the 7 of Plum Blossom')\n",
    "elif x==30:\n",
    "    print('The card you picked is the 7 of diamond')\n",
    "elif x==31:\n",
    "    print('The card you picked is the 7 of Spade')\n",
    "elif x==32:\n",
    "     print('The card you picked is the 8 of Hearts')\n",
    "elif x==33:\n",
    "    print('The card you picked is the 8 of Plum Blossom')\n",
    "elif x==34:\n",
    "     print('The card you picked is the 8 of diamond')\n",
    "elif x==35:\n",
    "      print('The card you picked is the 8 of Spade')\n",
    "elif x==36:\n",
    "     print('The card you picked is the 9 of Hearts')\n",
    "elif x==37:\n",
    "     print('The card you picked is the 9 of Plum Blossom')\n",
    "elif x==38:\n",
    "    print('The card you picked is the 9 of diamond')\n",
    "elif x==39:\n",
    "     print('The card you picked is the 9 of Spade')\n",
    "elif x==40:\n",
    "     print('The card you picked is the Queen of Hearts')\n",
    "elif x==41:\n",
    "    print('The card you picked is the Queen of Plum Blossom')\n",
    "elif x==42:\n",
    "     print('The card you picked is the Queen of diamond')\n",
    "elif x==43:\n",
    "    print('The card you picked is the Queen of Spade')\n",
    "elif x==44:\n",
    "    print('The card you picked is the 10 of Hearts')\n",
    "elif x==45:\n",
    "     print('The card you picked is the 10 of Plum Blossom')\n",
    "elif x==46:\n",
    "    print('The card you picked is the 10 of diamond')\n",
    "elif x==47:\n",
    "    print('The card you picked is the 10 of Spade')\n",
    "elif x==48:\n",
    "     print('The card you picked is the King of Hearts')\n",
    "elif x==49:\n",
    "    print('The card you picked is the King of Plum Blossom')\n",
    "elif x==50:\n",
    "    print('The card you picked is the King of diamond')\n",
    "elif x==51:\n",
    "    print('The card you picked is the King of Spade')\n"
   ]
  },
  {
   "cell_type": "markdown",
   "metadata": {},
   "source": [
    "- 11\n",
    "![](../Photo/52.png)"
   ]
  },
  {
   "cell_type": "code",
   "execution_count": 32,
   "metadata": {},
   "outputs": [
    {
     "name": "stdout",
     "output_type": "stream",
     "text": [
      "请输入一个三位数121\n",
      "121 is a palindrome\n"
     ]
    }
   ],
   "source": [
    "number=eval(input('请输入一个三位数'))\n",
    "bai = number // 100\n",
    "shi = number// 10 % 10\n",
    "ge = number %10\n",
    "number1 = ge*100+shi*10+bai\n",
    "if number == number1:\n",
    "    print(number,'is a palindrome')\n",
    "else:\n",
    "    print(number,'is not a palindrome')\n"
   ]
  },
  {
   "cell_type": "markdown",
   "metadata": {},
   "source": [
    "- 12\n",
    "![](../Photo/53.png)"
   ]
  },
  {
   "cell_type": "code",
   "execution_count": 31,
   "metadata": {},
   "outputs": [
    {
     "name": "stdout",
     "output_type": "stream",
     "text": [
      "请输入边长1\n",
      "请输入边长1\n",
      "请输入边长1\n",
      "3\n"
     ]
    }
   ],
   "source": [
    "a = eval(input('请输入边长'))\n",
    "b = eval(input('请输入边长'))\n",
    "c = eval(input('请输入边长'))\n",
    "zhouchang =a+b+c\n",
    "if (a+b>c )or (a+c>b)or (b+c>a):\n",
    "    print(zhouchang)\n",
    "else:\n",
    "    print('不合法')  "
   ]
  }
 ],
 "metadata": {
  "kernelspec": {
   "display_name": "Python 3",
   "language": "python",
   "name": "python3"
  },
  "language_info": {
   "codemirror_mode": {
    "name": "ipython",
    "version": 3
   },
   "file_extension": ".py",
   "mimetype": "text/x-python",
   "name": "python",
   "nbconvert_exporter": "python",
   "pygments_lexer": "ipython3",
   "version": "3.7.3"
  }
 },
 "nbformat": 4,
 "nbformat_minor": 2
}
