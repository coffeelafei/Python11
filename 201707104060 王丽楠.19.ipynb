{
 "cells": [
  {
   "cell_type": "markdown",
   "metadata": {},
   "source": [
    "# 循环\n",
    "- 循环是一种控制语句块重复执行的结构\n",
    "- while  适用于广度遍历\n",
    "- for    开发中经常使用"
   ]
  },
  {
   "cell_type": "code",
   "execution_count": 2,
   "metadata": {},
   "outputs": [
    {
     "name": "stdout",
     "output_type": "stream",
     "text": [
      "hahahaha\n",
      "hahahaha\n",
      "hahahaha\n",
      "hahahaha\n",
      "hahahaha\n",
      "hahahaha\n",
      "hahahaha\n",
      "hahahaha\n",
      "hahahaha\n",
      "hahahaha\n"
     ]
    }
   ],
   "source": [
    "i = 0\n",
    "while i<10:\n",
    "    print ('hahahaha')\n",
    "    i+=1"
   ]
  },
  {
   "cell_type": "markdown",
   "metadata": {},
   "source": [
    "## while 循环\n",
    "- 当一个条件保持真的时候while循环重复执行语句\n",
    "- while 循环一定要有结束条件，否则很容易进入死循环\n",
    "- while 循环的语法是：\n",
    "\n",
    "    while loop-contunuation-conndition:\n",
    "\n",
    "        Statement"
   ]
  },
  {
   "cell_type": "markdown",
   "metadata": {},
   "source": [
    "## 示例：\n",
    "sum = 0\n",
    "\n",
    "i = 1\n",
    "\n",
    "while i <10:\n",
    "\n",
    "    sum = sum + i\n",
    "    i = i + 1"
   ]
  },
  {
   "cell_type": "markdown",
   "metadata": {},
   "source": [
    "## 错误示例：\n",
    "sum = 0\n",
    "\n",
    "i = 1\n",
    "\n",
    "while i <10:\n",
    "\n",
    "    sum = sum + i\n",
    "\n",
    "i = i + 1\n",
    "- 一旦进入死循环可按 Ctrl + c 停止"
   ]
  },
  {
   "cell_type": "markdown",
   "metadata": {},
   "source": [
    "## EP：\n",
    "![](../Photo/143.png)\n",
    "![](../Photo/144.png)"
   ]
  },
  {
   "cell_type": "markdown",
   "metadata": {},
   "source": [
    "# 验证码\n",
    "- 随机产生四个字母的验证码，如果正确，输出验证码正确。如果错误，产生新的验证码，用户重新输入。\n",
    "- 验证码只能输入三次，如果三次都错，返回“别爬了，我们小网站没什么好爬的”\n",
    "- 密码登录，如果三次错误，账号被锁定\n"
   ]
  },
  {
   "cell_type": "code",
   "execution_count": 34,
   "metadata": {},
   "outputs": [],
   "source": [
    "import random"
   ]
  },
  {
   "cell_type": "code",
   "execution_count": 35,
   "metadata": {},
   "outputs": [
    {
     "name": "stdout",
     "output_type": "stream",
     "text": [
      "1 3 2 1\n",
      "a,b,c,d1,3,2,1\n",
      "验证码正确\n"
     ]
    }
   ],
   "source": [
    "a = random.randint(0,9)\n",
    "b = random.randint(0,9)\n",
    "c = random.randint(0,9)\n",
    "d = random.randint(0,9)\n",
    "print(a,b,c,d)\n",
    "a1,b1,c1,d1 = eval(input('a,b,c,d'))\n",
    "\n",
    "while 1: \n",
    "    if (a,b,c,d)==(a1,b1,c1,d1):\n",
    "        print('验证码正确')\n",
    "        break\n",
    "    else:\n",
    "        a=random.randint(0,9)\n",
    "        b=random.randint(0,9)\n",
    "        c=random.randint(0,9)\n",
    "        d=random.randint(0,9)\n",
    "        print(a,b,c,d)\n",
    "        a1,b1,c1,d1 = eval(input('a,b,c,d')) \n",
    "         "
   ]
  },
  {
   "cell_type": "code",
   "execution_count": 23,
   "metadata": {},
   "outputs": [],
   "source": [
    "import random"
   ]
  },
  {
   "cell_type": "code",
   "execution_count": 24,
   "metadata": {},
   "outputs": [
    {
     "name": "stdout",
     "output_type": "stream",
     "text": [
      "8778\n",
      "a8779\n",
      "5567\n",
      "a5567\n",
      "验证码正确\n"
     ]
    }
   ],
   "source": [
    "number = random.randint(1000,9999)\n",
    "print(number)\n",
    "a = eval(input('a'))\n",
    "while 1:\n",
    "    if a==number:\n",
    "        print('验证码正确')\n",
    "        break\n",
    "    else:\n",
    "        number = random.randint(1000,9999)\n",
    "        print(number)\n",
    "        a = eval(input('a'))"
   ]
  },
  {
   "cell_type": "code",
   "execution_count": 9,
   "metadata": {},
   "outputs": [],
   "source": [
    "import random"
   ]
  },
  {
   "cell_type": "code",
   "execution_count": 10,
   "metadata": {},
   "outputs": [
    {
     "name": "stdout",
     "output_type": "stream",
     "text": [
      "9081\n",
      "a9081\n",
      "验证码正确\n"
     ]
    }
   ],
   "source": [
    "number = random.randint(1000,9999)\n",
    "print(number)\n",
    "a = eval(input('a'))\n",
    "i = 1\n",
    "while i<3:\n",
    "    if a==number:\n",
    "        print('验证码正确')\n",
    "        break\n",
    "    else:\n",
    "        number = random.randint(1000,9999)\n",
    "        print(number)\n",
    "        a = eval(input('a'))\n",
    "        i+=1"
   ]
  },
  {
   "cell_type": "code",
   "execution_count": 31,
   "metadata": {},
   "outputs": [],
   "source": [
    "import random"
   ]
  },
  {
   "cell_type": "code",
   "execution_count": 32,
   "metadata": {},
   "outputs": [
    {
     "name": "stdout",
     "output_type": "stream",
     "text": [
      "word: pywh\n",
      "请输入字母pywh\n",
      ">>pywh\n",
      "correct\n"
     ]
    }
   ],
   "source": [
    "word1 = chr(random.randint(97,122))\n",
    "word2 = chr(random.randint(97,122))\n",
    "word3 = chr(random.randint(97,122))\n",
    "word4 = chr(random.randint(97,122))\n",
    "word  = word1+word2+word3+word4\n",
    "print('word:',word)\n",
    "me = input('请输入字母')\n",
    "word = input('>>')\n",
    "i=0\n",
    "while i<3:\n",
    "    if word==me:\n",
    "        print('correct')\n",
    "        break\n",
    "    else:\n",
    "        print('Error')\n",
    "        i += 1\n",
    "    if i == 3:\n",
    "        print('别爬了')"
   ]
  },
  {
   "cell_type": "code",
   "execution_count": null,
   "metadata": {},
   "outputs": [],
   "source": [
    "import random"
   ]
  },
  {
   "cell_type": "code",
   "execution_count": null,
   "metadata": {},
   "outputs": [],
   "source": []
  },
  {
   "cell_type": "markdown",
   "metadata": {},
   "source": [
    "## 尝试死循环"
   ]
  },
  {
   "cell_type": "markdown",
   "metadata": {},
   "source": [
    "## 实例研究：猜数字\n",
    "- 你将要编写一个能够随机生成一个0到10之间的且包括两者的数字程序，这个程序\n",
    "- 提示用户连续地输入数字直到正确，且提示用户输入的数字是过高还是过低"
   ]
  },
  {
   "cell_type": "markdown",
   "metadata": {},
   "source": [
    "## 使用哨兵值来控制循环\n",
    "- 哨兵值来表明输入的结束\n",
    "- ![](../Photo/54.png)"
   ]
  },
  {
   "cell_type": "code",
   "execution_count": null,
   "metadata": {},
   "outputs": [],
   "source": []
  },
  {
   "cell_type": "markdown",
   "metadata": {},
   "source": [
    "## 警告\n",
    "![](../Photo/55.png)"
   ]
  },
  {
   "cell_type": "markdown",
   "metadata": {},
   "source": [
    "## for 循环\n",
    "- Python的for 循环通过一个序列中的每个值来进行迭代\n",
    "- range(a,b,k)， a，b，k 必须为整数\n",
    "- a: start\n",
    "- b: end\n",
    "- k: step\n",
    "- 注意for 是循环一切可迭代对象，而不是只能使用range"
   ]
  },
  {
   "cell_type": "code",
   "execution_count": 6,
   "metadata": {},
   "outputs": [
    {
     "name": "stdout",
     "output_type": "stream",
     "text": [
      "10\n",
      "9\n",
      "8\n",
      "7\n",
      "6\n",
      "5\n",
      "4\n",
      "3\n",
      "2\n"
     ]
    }
   ],
   "source": [
    "for i in range(10,1,-1):\n",
    "    print(i)"
   ]
  },
  {
   "cell_type": "code",
   "execution_count": null,
   "metadata": {},
   "outputs": [],
   "source": [
    "a = 100\n",
    "a._"
   ]
  },
  {
   "cell_type": "code",
   "execution_count": 11,
   "metadata": {},
   "outputs": [
    {
     "data": {
      "text/plain": [
       "<str_iterator at 0x1d6b9b42e48>"
      ]
     },
     "execution_count": 11,
     "metadata": {},
     "output_type": "execute_result"
    }
   ],
   "source": [
    "bb = 'joker'\n",
    "bb.__iter__()"
   ]
  },
  {
   "cell_type": "code",
   "execution_count": 12,
   "metadata": {},
   "outputs": [
    {
     "name": "stdout",
     "output_type": "stream",
     "text": [
      "j\n",
      "o\n",
      "k\n",
      "e\n",
      "r\n"
     ]
    }
   ],
   "source": [
    "for i in bb:\n",
    "    print(i)"
   ]
  },
  {
   "cell_type": "markdown",
   "metadata": {},
   "source": [
    "# 在Python里面一切皆对象"
   ]
  },
  {
   "cell_type": "markdown",
   "metadata": {},
   "source": [
    "## EP:\n",
    "- ![](../Photo/145.png)"
   ]
  },
  {
   "cell_type": "code",
   "execution_count": 16,
   "metadata": {},
   "outputs": [
    {
     "name": "stdout",
     "output_type": "stream",
     "text": [
      "10011\n"
     ]
    }
   ],
   "source": [
    "sum_=0\n",
    "for i in range(1,10001):\n",
    "    sum_+=i\n",
    "    if sum_> 10000:\n",
    "        break\n",
    "print(sum_)"
   ]
  },
  {
   "cell_type": "code",
   "execution_count": 15,
   "metadata": {},
   "outputs": [
    {
     "name": "stdout",
     "output_type": "stream",
     "text": [
      "500500\n"
     ]
    }
   ],
   "source": [
    "sum_ = 0\n",
    "i = 0\n",
    "while i < 1001:\n",
    "    sum_ = sum_ + i\n",
    "    i += 1\n",
    "print(sum)"
   ]
  },
  {
   "cell_type": "markdown",
   "metadata": {},
   "source": [
    "## 嵌套循环\n",
    "- 一个循环可以嵌套另一个循环\n",
    "- 每次循环外层时，内层循环都会被刷新重新完成循环\n",
    "- 也就是说，大循环执行一次，小循环会全部执行一次\n",
    "- 注意：\n",
    "> - 多层循环非常耗时\n",
    "  - 最多使用3层循环"
   ]
  },
  {
   "cell_type": "markdown",
   "metadata": {},
   "source": [
    "## EP：\n",
    "- 使用多层循环完成9X9乘法表\n",
    "- 显示50以内所有的素数"
   ]
  },
  {
   "cell_type": "code",
   "execution_count": 32,
   "metadata": {},
   "outputs": [
    {
     "name": "stdout",
     "output_type": "stream",
     "text": [
      "1 * 1 = 1\t\n",
      "2 * 1 = 2\t2 * 2 = 4\t\n",
      "3 * 1 = 3\t3 * 2 = 6\t3 * 3 = 9\t\n",
      "4 * 1 = 4\t4 * 2 = 8\t4 * 3 = 12\t4 * 4 = 16\t\n",
      "5 * 1 = 5\t5 * 2 = 10\t5 * 3 = 15\t5 * 4 = 20\t5 * 5 = 25\t\n",
      "6 * 1 = 6\t6 * 2 = 12\t6 * 3 = 18\t6 * 4 = 24\t6 * 5 = 30\t6 * 6 = 36\t\n",
      "7 * 1 = 7\t7 * 2 = 14\t7 * 3 = 21\t7 * 4 = 28\t7 * 5 = 35\t7 * 6 = 42\t7 * 7 = 49\t\n",
      "8 * 1 = 8\t8 * 2 = 16\t8 * 3 = 24\t8 * 4 = 32\t8 * 5 = 40\t8 * 6 = 48\t8 * 7 = 56\t8 * 8 = 64\t\n",
      "9 * 1 = 9\t9 * 2 = 18\t9 * 3 = 27\t9 * 4 = 36\t9 * 5 = 45\t9 * 6 = 54\t9 * 7 = 63\t9 * 8 = 72\t9 * 9 = 81\t\n"
     ]
    }
   ],
   "source": [
    "for i in range(1,10):\n",
    "    for j in range(1,i+1):    \n",
    "        sum_ = i * j\n",
    "        print(i,'*',j,'=',sum_,end = '\\t')\n",
    "    print()"
   ]
  },
  {
   "cell_type": "code",
   "execution_count": 1,
   "metadata": {},
   "outputs": [
    {
     "name": "stdout",
     "output_type": "stream",
     "text": [
      "2\n",
      "3\n",
      "5\n",
      "7\n",
      "11\n",
      "13\n",
      "17\n",
      "19\n",
      "23\n",
      "29\n",
      "31\n",
      "37\n",
      "41\n",
      "43\n",
      "47\n"
     ]
    }
   ],
   "source": [
    "for i in range(2,51):\n",
    "    for j in range(2,51):\n",
    "         if i%j==0:\n",
    "            break\n",
    "    if i<=j:\n",
    "            print(i)                "
   ]
  },
  {
   "cell_type": "markdown",
   "metadata": {},
   "source": [
    "## 关键字 break 和 continue\n",
    "- break 跳出循环，终止循环\n",
    "- continue 跳出此次循环，继续执行"
   ]
  },
  {
   "cell_type": "code",
   "execution_count": 19,
   "metadata": {},
   "outputs": [
    {
     "name": "stdout",
     "output_type": "stream",
     "text": [
      "5\n"
     ]
    }
   ],
   "source": [
    "for i in range(10):\n",
    "    if i ==5:\n",
    "        break\n",
    "print(i)"
   ]
  },
  {
   "cell_type": "code",
   "execution_count": 20,
   "metadata": {},
   "outputs": [
    {
     "name": "stdout",
     "output_type": "stream",
     "text": [
      "0\n",
      "1\n",
      "2\n",
      "3\n",
      "4\n",
      "6\n",
      "7\n",
      "8\n",
      "9\n"
     ]
    }
   ],
   "source": [
    "for i in range(10):\n",
    "    if i ==5:\n",
    "        continue\n",
    "    print(i)"
   ]
  },
  {
   "cell_type": "code",
   "execution_count": 21,
   "metadata": {},
   "outputs": [
    {
     "name": "stdout",
     "output_type": "stream",
     "text": [
      "0 0\n",
      "0 1\n",
      "0 2\n",
      "0 3\n",
      "0 4\n",
      "0 5\n",
      "0 6\n",
      "0 7\n",
      "0 8\n",
      "0 9\n",
      "1 0\n",
      "1 1\n",
      "1 2\n",
      "1 3\n",
      "1 4\n",
      "1 5\n",
      "1 6\n",
      "1 7\n",
      "1 8\n",
      "1 9\n",
      "2 0\n",
      "2 1\n",
      "2 2\n",
      "2 3\n",
      "2 4\n",
      "2 5\n",
      "2 6\n",
      "2 7\n",
      "2 8\n",
      "2 9\n",
      "3 0\n",
      "3 1\n",
      "3 2\n",
      "3 3\n",
      "3 4\n",
      "3 5\n",
      "3 6\n",
      "3 7\n",
      "3 8\n",
      "3 9\n",
      "4 0\n",
      "4 1\n",
      "4 2\n",
      "4 3\n",
      "4 4\n",
      "4 5\n",
      "4 6\n",
      "4 7\n",
      "4 8\n",
      "4 9\n",
      "5 0\n",
      "5 1\n",
      "5 2\n",
      "5 3\n",
      "5 4\n",
      "5 5\n",
      "5 6\n",
      "5 7\n",
      "5 8\n",
      "5 9\n",
      "6 0\n",
      "6 1\n",
      "6 2\n",
      "6 3\n",
      "6 4\n",
      "6 5\n",
      "6 6\n",
      "6 7\n",
      "6 8\n",
      "6 9\n",
      "7 0\n",
      "7 1\n",
      "7 2\n",
      "7 3\n",
      "7 4\n",
      "7 5\n",
      "7 6\n",
      "7 7\n",
      "7 8\n",
      "7 9\n",
      "8 0\n",
      "8 1\n",
      "8 2\n",
      "8 3\n",
      "8 4\n",
      "8 5\n",
      "8 6\n",
      "8 7\n",
      "8 8\n",
      "8 9\n",
      "9 0\n",
      "9 1\n",
      "9 2\n",
      "9 3\n",
      "9 4\n",
      "9 5\n",
      "9 6\n",
      "9 7\n",
      "9 8\n",
      "9 9\n"
     ]
    }
   ],
   "source": [
    "for i in range(10):\n",
    "    for j in range(10):\n",
    "        print(i,j,k)"
   ]
  },
  {
   "cell_type": "markdown",
   "metadata": {},
   "source": [
    "## 注意\n",
    "![](../Photo/56.png)\n",
    "![](../Photo/57.png)"
   ]
  },
  {
   "cell_type": "markdown",
   "metadata": {},
   "source": [
    "# Homework\n",
    "- 1 \n",
    "![](../Photo/58.png)"
   ]
  },
  {
   "cell_type": "code",
   "execution_count": 1,
   "metadata": {},
   "outputs": [
    {
     "name": "stdout",
     "output_type": "stream",
     "text": [
      ">>1\n",
      ">>2\n",
      ">>-1\n",
      ">>3\n",
      ">>2\n",
      ">>23\n",
      ">>-2\n",
      ">>0\n",
      "5\n",
      "2\n",
      "4.0\n"
     ]
    }
   ],
   "source": [
    "zhengshu = 0\n",
    "fushu = 0\n",
    "sum_= 0\n",
    "cishu = 0\n",
    "data = 1\n",
    "while data !=0:\n",
    "    data = eval(input(\">>\"))\n",
    "    if data > 0:\n",
    "        zhengshu += 1\n",
    "    if data < 0:\n",
    "        fushu += 1\n",
    "    sum_+= data\n",
    "    if data !=0:\n",
    "        cishu += 1\n",
    "        \n",
    "print(zhengshu)\n",
    "print(fushu)\n",
    "print(sum_/cishu)       "
   ]
  },
  {
   "cell_type": "markdown",
   "metadata": {},
   "source": [
    "- 2\n",
    "![](../Photo/59.png)"
   ]
  },
  {
   "cell_type": "code",
   "execution_count": 27,
   "metadata": {},
   "outputs": [
    {
     "name": "stdout",
     "output_type": "stream",
     "text": [
      "十年后 16288.946267774418\n",
      "大学时期 17103.393581163138\n",
      "大学时期 17958.563260221297\n",
      "大学时期 18856.491423232364\n",
      "大学时期 19799.315994393983\n"
     ]
    }
   ],
   "source": [
    "i=1\n",
    "money=10000\n",
    "while i<=11: \n",
    "    i+=1\n",
    "    money=(money*(1+0.05))\n",
    "    if i ==11:\n",
    "        break\n",
    "print('十年后',money)\n",
    "j=1\n",
    "money_last=money\n",
    "while j<=4:\n",
    "    j+=1\n",
    "    money_last=(money_last*(1+0.05))\n",
    "    print('大学时期',money_last)"
   ]
  },
  {
   "cell_type": "code",
   "execution_count": 2,
   "metadata": {},
   "outputs": [
    {
     "name": "stdout",
     "output_type": "stream",
     "text": [
      "73717.76425901079\n"
     ]
    }
   ],
   "source": [
    "a=17103.393581163138\n",
    "b=17958.563260221297 \n",
    "c=18856.491423232364\n",
    "d=19799.315994393983\n",
    "x = a+b+c+d\n",
    "print(x)"
   ]
  },
  {
   "cell_type": "code",
   "execution_count": 12,
   "metadata": {},
   "outputs": [
    {
     "name": "stdout",
     "output_type": "stream",
     "text": [
      "十年后 10500.0\n",
      "十年后 11025.0\n",
      "十年后 11576.25\n",
      "十年后 12155.0625\n",
      "十年后 12762.815625000001\n",
      "十年后 13400.956406250001\n",
      "十年后 14071.004226562502\n",
      "十年后 14774.554437890627\n",
      "十年后 15513.28215978516\n",
      "四年后 16288.946267774418\n"
     ]
    }
   ],
   "source": [
    "i=1\n",
    "money=10000\n",
    "while i<=15: \n",
    "    i+=1\n",
    "    money=(money*(1+0.05))\n",
    "    if i ==11:\n",
    "        break\n",
    "    print('十年后',money)\n",
    "    if i ==15:\n",
    "        break\n",
    "print('四年后',money)"
   ]
  },
  {
   "cell_type": "markdown",
   "metadata": {},
   "source": [
    "- 3\n",
    "![](../Photo/58.png)"
   ]
  },
  {
   "cell_type": "code",
   "execution_count": 21,
   "metadata": {},
   "outputs": [
    {
     "name": "stdout",
     "output_type": "stream",
     "text": [
      "Enter an integer:1\n",
      "Enter an integer:2\n",
      "Enter an integer:-1\n",
      "Enter an integer:3\n",
      "1.25\n"
     ]
    }
   ],
   "source": [
    "x1 = eval(input('Enter an integer:'))\n",
    "x2 = eval(input('Enter an integer:'))\n",
    "x3 = eval(input('Enter an integer:'))\n",
    "x4 = eval(input('Enter an integer:'))\n",
    "i = (x1+x2+x3+x4)/4\n",
    "print(i)"
   ]
  },
  {
   "cell_type": "markdown",
   "metadata": {},
   "source": [
    "- 4\n",
    "![](../Photo/60.png)"
   ]
  },
  {
   "cell_type": "code",
   "execution_count": 13,
   "metadata": {},
   "outputs": [
    {
     "name": "stdout",
     "output_type": "stream",
     "text": [
      "120 150 180 210 240 270 300 330 360 390 \n",
      "420 450 480 510 540 570 600 630 660 690 \n",
      "720 750 780 810 840 870 900 930 960 990 \n"
     ]
    }
   ],
   "source": [
    "count = 0\n",
    "for i in range(100,1001):\n",
    "    if i%5==0 and i%6==0:\n",
    "        print(i,end = \" \")\n",
    "        count +=1\n",
    "        if count %10 == 0:\n",
    "            print( )"
   ]
  },
  {
   "cell_type": "markdown",
   "metadata": {},
   "source": [
    "- 5\n",
    "![](../Photo/61.png)"
   ]
  },
  {
   "cell_type": "code",
   "execution_count": 14,
   "metadata": {},
   "outputs": [
    {
     "name": "stdout",
     "output_type": "stream",
     "text": [
      "110\n"
     ]
    }
   ],
   "source": [
    "n=0\n",
    "while n**2<12000:\n",
    "    n+=1\n",
    "print(n)  "
   ]
  },
  {
   "cell_type": "code",
   "execution_count": 15,
   "metadata": {},
   "outputs": [
    {
     "name": "stdout",
     "output_type": "stream",
     "text": [
      "22\n"
     ]
    }
   ],
   "source": [
    "n =0\n",
    "while n**3<12000:\n",
    "    n+=1\n",
    "print(n-1)"
   ]
  },
  {
   "cell_type": "markdown",
   "metadata": {},
   "source": [
    "- 6\n",
    "![](../Photo/62.png)"
   ]
  },
  {
   "cell_type": "code",
   "execution_count": 18,
   "metadata": {},
   "outputs": [
    {
     "name": "stdout",
     "output_type": "stream",
     "text": [
      "5.125 % 月利率 500.0 总和 30000.0\n",
      "5.375 % 月利率 525.0 总和 31500.0\n",
      "5.625 % 月利率 550.0 总和 33000.0\n",
      "5.875 % 月利率 575.0 总和 34500.0\n",
      "6.125 % 月利率 600.0 总和 36000.0\n",
      "6.375 % 月利率 625.0 总和 37500.0\n",
      "6.625 % 月利率 650.0 总和 39000.0\n",
      "6.875 % 月利率 675.0 总和 40500.0\n",
      "7.125 % 月利率 700.0 总和 42000.0\n",
      "7.375 % 月利率 725.0 总和 43500.0\n",
      "7.625 % 月利率 750.0 总和 45000.0\n",
      "7.875 % 月利率 775.0 总和 46500.0\n",
      "8.125 % 月利率 800.0 总和 48000.0\n",
      "8.375 % 月利率 825.0 总和 49500.0\n",
      "8.625 % 月利率 850.0 总和 51000.0\n",
      "8.875 % 月利率 875.0 总和 52500.0\n",
      "9.125 % 月利率 900.0 总和 54000.0\n",
      "9.375 % 月利率 925.0 总和 55500.0\n",
      "9.625 % 月利率 950.0 总和 57000.0\n",
      "9.875 % 月利率 975.0 总和 58500.0\n",
      "10.125 % 月利率 1000.0 总和 60000.0\n",
      "10.375 % 月利率 1025.0 总和 61500.0\n",
      "10.625 % 月利率 1050.0 总和 63000.0\n",
      "10.875 % 月利率 1075.0 总和 64500.0\n"
     ]
    }
   ],
   "source": [
    "money = 10000\n",
    "lilv = 5\n",
    "nian = 5\n",
    "for i in range(24):\n",
    "    m = money * lilv / 100\n",
    "    t = 12*m*nian\n",
    "    lilv += 1/8\n",
    "    print(lilv,'%','月利率',m,'总和',t)\n",
    "    if lilv == 5.25:\n",
    "        print('...')\n",
    "    lilv += 1/8"
   ]
  },
  {
   "cell_type": "markdown",
   "metadata": {},
   "source": [
    "- 7\n",
    "![](../Photo/63.png)"
   ]
  },
  {
   "cell_type": "code",
   "execution_count": 1,
   "metadata": {},
   "outputs": [
    {
     "name": "stdout",
     "output_type": "stream",
     "text": [
      "从左到右 11.397003949278504\n"
     ]
    }
   ],
   "source": [
    "number=0\n",
    "for n in range(1,50001):\n",
    "    number=number+(1/n)\n",
    "print('从左到右',number)   "
   ]
  },
  {
   "cell_type": "code",
   "execution_count": 3,
   "metadata": {},
   "outputs": [
    {
     "name": "stdout",
     "output_type": "stream",
     "text": [
      "从右到左 11.397003949278519\n"
     ]
    }
   ],
   "source": [
    "number=0\n",
    "for n in range(50000,0,-1):\n",
    "     number=number+(1/n)\n",
    "print('从右到左',number)"
   ]
  },
  {
   "cell_type": "markdown",
   "metadata": {},
   "source": [
    "- 8\n",
    "![](../Photo/64.png)"
   ]
  },
  {
   "cell_type": "code",
   "execution_count": 20,
   "metadata": {},
   "outputs": [
    {
     "name": "stdout",
     "output_type": "stream",
     "text": [
      "45.124450303050196\n"
     ]
    }
   ],
   "source": [
    "res = 0\n",
    "for i in range(1,98,2):\n",
    "    res += i /(i+2)\n",
    "print(res)"
   ]
  },
  {
   "cell_type": "markdown",
   "metadata": {},
   "source": [
    "- 9\n",
    "![](../Photo/65.png)"
   ]
  },
  {
   "cell_type": "code",
   "execution_count": 21,
   "metadata": {},
   "outputs": [
    {
     "name": "stdout",
     "output_type": "stream",
     "text": [
      "3.1416926635905345\n"
     ]
    }
   ],
   "source": [
    "res = 0\n",
    "for i in range(1,10000):\n",
    "    res +=4*( (-1)**(i+1)/(2*i-1))\n",
    "print(res)"
   ]
  },
  {
   "cell_type": "markdown",
   "metadata": {},
   "source": [
    "- 10 \n",
    "![](../Photo/66.png)"
   ]
  },
  {
   "cell_type": "code",
   "execution_count": 22,
   "metadata": {},
   "outputs": [
    {
     "name": "stdout",
     "output_type": "stream",
     "text": [
      "6\n",
      "28\n",
      "496\n",
      "8128\n"
     ]
    }
   ],
   "source": [
    "for i in range (1,10000):\n",
    "    res = 0\n",
    "    for j in range (1,i):\n",
    "        if i %j ==0:\n",
    "            res +=j\n",
    "    if i == res:\n",
    "        print(i)\n"
   ]
  },
  {
   "cell_type": "markdown",
   "metadata": {},
   "source": [
    "- 11\n",
    "![](../Photo/67.png)"
   ]
  },
  {
   "cell_type": "code",
   "execution_count": 24,
   "metadata": {},
   "outputs": [
    {
     "name": "stdout",
     "output_type": "stream",
     "text": [
      "1 2\n",
      "1 3\n",
      "1 4\n",
      "1 5\n",
      "1 6\n",
      "1 7\n",
      "2 1\n",
      "2 3\n",
      "2 4\n",
      "2 5\n",
      "2 6\n",
      "2 7\n",
      "3 1\n",
      "3 2\n",
      "3 4\n",
      "3 5\n",
      "3 6\n",
      "3 7\n",
      "4 1\n",
      "4 2\n",
      "4 3\n",
      "4 5\n",
      "4 6\n",
      "4 7\n",
      "5 1\n",
      "5 2\n",
      "5 3\n",
      "5 4\n",
      "5 6\n",
      "5 7\n",
      "6 1\n",
      "6 2\n",
      "6 3\n",
      "6 4\n",
      "6 5\n",
      "6 7\n",
      "7 1\n",
      "7 2\n",
      "7 3\n",
      "7 4\n",
      "7 5\n",
      "7 6\n"
     ]
    }
   ],
   "source": [
    "for i in range(1,8):\n",
    "    for j in range(1,8):\n",
    "        if i==j :\n",
    "            continue\n",
    "        print(i,j)"
   ]
  },
  {
   "cell_type": "markdown",
   "metadata": {},
   "source": [
    "- 12\n",
    "![](../Photo/68.png)"
   ]
  },
  {
   "cell_type": "code",
   "execution_count": 15,
   "metadata": {},
   "outputs": [
    {
     "name": "stdout",
     "output_type": "stream",
     "text": [
      "Enter ten numbers1\n",
      "Enter ten numbers2\n",
      "Enter ten numbers3\n",
      "Enter ten numbers5.5\n",
      "Enter ten numbers5.6\n",
      "Enter ten numbers6\n",
      "Enter ten numbers7\n",
      "Enter ten numbers8\n",
      "Enter ten numbers9\n",
      "Enter ten numbers10\n",
      "The mean is 5.71\n"
     ]
    }
   ],
   "source": [
    "x1=eval(input(\"Enter ten numbers\"))\n",
    "x2=eval(input(\"Enter ten numbers\"))\n",
    "x3=eval(input(\"Enter ten numbers\"))\n",
    "x4=eval(input(\"Enter ten numbers\"))\n",
    "x5=eval(input(\"Enter ten numbers\"))\n",
    "x6=eval(input(\"Enter ten numbers\"))\n",
    "x7=eval(input(\"Enter ten numbers\"))\n",
    "x8=eval(input(\"Enter ten numbers\"))\n",
    "x9=eval(input(\"Enter ten numbers\"))\n",
    "x10=eval(input(\"Enter ten numbers\"))\n",
    "mean = (x1+x2+x3+x4+x5+x6+x7+x8+x9+x10)/10\n",
    "print('The mean is',mean)"
   ]
  },
  {
   "cell_type": "code",
   "execution_count": null,
   "metadata": {},
   "outputs": [],
   "source": []
  }
 ],
 "metadata": {
  "kernelspec": {
   "display_name": "Python 3",
   "language": "python",
   "name": "python3"
  },
  "language_info": {
   "codemirror_mode": {
    "name": "ipython",
    "version": 3
   },
   "file_extension": ".py",
   "mimetype": "text/x-python",
   "name": "python",
   "nbconvert_exporter": "python",
   "pygments_lexer": "ipython3",
   "version": "3.7.3"
  }
 },
 "nbformat": 4,
 "nbformat_minor": 2
}
