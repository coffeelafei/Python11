{
 "cells": [
  {
   "cell_type": "markdown",
   "metadata": {},
   "source": [
    "# 更多字符串和特殊方法\n",
    "- 前面我们已经学了类，在Python中还有一些特殊的方法起着非常重要的作用，这里会介绍一些特殊的方法和运算符的重载，以及使用特殊方法设计类"
   ]
  },
  {
   "cell_type": "markdown",
   "metadata": {},
   "source": [
    "## str 类\n",
    "- 一个str对象是不可变的，也就是说，一旦创建了这个字符串，那么它的内容在认为不改变的情况下是不会变的\n",
    "- s1 = str()\n",
    "- s2 = str('welcome to Python')"
   ]
  },
  {
   "cell_type": "code",
   "execution_count": 7,
   "metadata": {},
   "outputs": [
    {
     "name": "stdout",
     "output_type": "stream",
     "text": [
      "100wang\n"
     ]
    }
   ],
   "source": [
    "a = 100\n",
    "b = str(a)\n",
    "c = 'wang'\n",
    "print(b+c)"
   ]
  },
  {
   "cell_type": "markdown",
   "metadata": {},
   "source": [
    "## 创建两个对象，分别观察两者id\n",
    "- id为Python内存地址"
   ]
  },
  {
   "cell_type": "code",
   "execution_count": 4,
   "metadata": {},
   "outputs": [
    {
     "name": "stdout",
     "output_type": "stream",
     "text": [
      "2543426467296 2543426467296\n"
     ]
    }
   ],
   "source": [
    "a = '100'\n",
    "b = '100'\n",
    "print(id(a),id(b))"
   ]
  },
  {
   "cell_type": "markdown",
   "metadata": {},
   "source": [
    "## 处理字符串的函数\n",
    "- len\n",
    "- max\n",
    "- min\n",
    "- 字符串一切是按照ASCII码值进行比较"
   ]
  },
  {
   "cell_type": "code",
   "execution_count": 8,
   "metadata": {},
   "outputs": [
    {
     "data": {
      "text/plain": [
       "False"
      ]
     },
     "execution_count": 8,
     "metadata": {},
     "output_type": "execute_result"
    }
   ],
   "source": [
    "a = len('aabb')\n",
    "b = len('aab')\n",
    "a==b"
   ]
  },
  {
   "cell_type": "code",
   "execution_count": 9,
   "metadata": {},
   "outputs": [
    {
     "data": {
      "text/plain": [
       "'w'"
      ]
     },
     "execution_count": 9,
     "metadata": {},
     "output_type": "execute_result"
    }
   ],
   "source": [
    "c = 'wang'\n",
    "max(c)"
   ]
  },
  {
   "cell_type": "code",
   "execution_count": 10,
   "metadata": {},
   "outputs": [
    {
     "data": {
      "text/plain": [
       "'wang'"
      ]
     },
     "execution_count": 10,
     "metadata": {},
     "output_type": "execute_result"
    }
   ],
   "source": [
    "c = 'Joker'\n",
    "d = 'wang'\n",
    "max(c,d)"
   ]
  },
  {
   "cell_type": "markdown",
   "metadata": {},
   "source": [
    "## 下角标运算符 []\n",
    "- 一个字符串是一个字符序列，可以通过索引进行访问\n",
    "- 观察字符串是否是一个可迭代序列  \\__iter__"
   ]
  },
  {
   "cell_type": "code",
   "execution_count": 13,
   "metadata": {},
   "outputs": [
    {
     "name": "stdout",
     "output_type": "stream",
     "text": [
      "J\n",
      "o\n",
      "k\n",
      "e\n",
      "r\n"
     ]
    }
   ],
   "source": [
    "for i in 'Joker':\n",
    "    print(i)"
   ]
  },
  {
   "cell_type": "code",
   "execution_count": 15,
   "metadata": {},
   "outputs": [
    {
     "name": "stdout",
     "output_type": "stream",
     "text": [
      "J\n",
      "o\n",
      "k\n",
      "e\n",
      "r\n"
     ]
    }
   ],
   "source": [
    "n = 'Joker'\n",
    "i = 0\n",
    "while i<len(n):\n",
    "    print(n[i])\n",
    "    i+=1\n"
   ]
  },
  {
   "cell_type": "code",
   "execution_count": 11,
   "metadata": {},
   "outputs": [
    {
     "name": "stdout",
     "output_type": "stream",
     "text": [
      "Joker\n"
     ]
    },
    {
     "data": {
      "text/plain": [
       "'r'"
      ]
     },
     "execution_count": 11,
     "metadata": {},
     "output_type": "execute_result"
    }
   ],
   "source": [
    "print(c)\n",
    "c[-1]#负索引满足所有长度"
   ]
  },
  {
   "cell_type": "code",
   "execution_count": 12,
   "metadata": {},
   "outputs": [
    {
     "data": {
      "text/plain": [
       "'r'"
      ]
     },
     "execution_count": 12,
     "metadata": {},
     "output_type": "execute_result"
    }
   ],
   "source": [
    "c[4]"
   ]
  },
  {
   "cell_type": "code",
   "execution_count": 18,
   "metadata": {},
   "outputs": [
    {
     "data": {
      "text/plain": [
       "'好不好得觉你,大强变要我过'"
      ]
     },
     "execution_count": 18,
     "metadata": {},
     "output_type": "execute_result"
    }
   ],
   "source": [
    "a = '我说过我要变强大,你觉得好不好嘞'\n",
    "a[-2:-15:-1]"
   ]
  },
  {
   "cell_type": "code",
   "execution_count": 19,
   "metadata": {},
   "outputs": [
    {
     "data": {
      "text/plain": [
       "'嘞好不好得觉你,大强变要我过说我'"
      ]
     },
     "execution_count": 19,
     "metadata": {},
     "output_type": "execute_result"
    }
   ],
   "source": [
    "a[::-1]"
   ]
  },
  {
   "cell_type": "code",
   "execution_count": 27,
   "metadata": {},
   "outputs": [],
   "source": [
    "def Search(index):\n",
    "    path = '/Users/lenovo/Desktop/mail.txt'\n",
    "    with open(file=path,mode='r')as C:\n",
    "        for i in range(1000):\n",
    "            line = C.readline()\n",
    "            new_line = line[0:index+1]\n",
    "            if new_line[-1] == '@':\n",
    "                print(new_line[:-1])\n",
    "                "
   ]
  },
  {
   "cell_type": "code",
   "execution_count": 28,
   "metadata": {},
   "outputs": [
    {
     "name": "stdout",
     "output_type": "stream",
     "text": [
      "kcqer\n",
      "bn922\n",
      "11000\n",
      "tenQQ\n",
      "jiw23\n",
      "65464\n",
      "max74\n",
      "55555\n",
      "lw45j\n",
      "qerjh\n",
      "jijij\n",
      "45646\n",
      "zxqcw\n",
      "djzjh\n"
     ]
    }
   ],
   "source": [
    "Search(5)"
   ]
  },
  {
   "cell_type": "markdown",
   "metadata": {},
   "source": [
    "## 链接运算符 + 和复制运算符 *\n",
    "- \\+ 链接多个字符串，同时''.join()也是\n",
    "- \\* 复制多个字符串"
   ]
  },
  {
   "cell_type": "markdown",
   "metadata": {},
   "source": [
    "## in 和 not in 运算符\n",
    "- in :判断某个字符是否在字符串内 \n",
    "- not in ：判断某个字符是否不在字符串内\n",
    "- 返回的是布尔值"
   ]
  },
  {
   "cell_type": "code",
   "execution_count": null,
   "metadata": {},
   "outputs": [],
   "source": [
    "'Jo' not in 'Joker'"
   ]
  },
  {
   "cell_type": "markdown",
   "metadata": {},
   "source": [
    "## 比较字符串\n",
    "-  ==, !=, >=, <=, >, <\n",
    "- 依照ASCII码值进行比较"
   ]
  },
  {
   "cell_type": "markdown",
   "metadata": {},
   "source": [
    "## 测试字符串\n",
    "![](../Photo/99.png)\n",
    "- 注意：\n",
    "> - isalnum() 中是不能包含空格，否则会返回False"
   ]
  },
  {
   "cell_type": "code",
   "execution_count": null,
   "metadata": {},
   "outputs": [],
   "source": [
    "password = input(\">>\")\n",
    "n1 = 0 #大写\n",
    "n2 = 0 #小写\n",
    "n3 = 0 #数字\n",
    "if len(password) <= 8:\n",
    "    print('密码必须大于8位')\n",
    "for i in password:\n",
    "    if i.isupper():\n",
    "        n1 +=1\n",
    "    if i.islower():\n",
    "        n2+=1\n",
    "    if i.isdigit():\n",
    "        n3+=1\n",
    "if n1 == 0:\n",
    "    print('密码必须有大写')\n",
    "if n2 == 0:\n",
    "    print('密码必须有小写')\n",
    "if n3 == 0:\n",
    "    print('密码必须含有数字')"
   ]
  },
  {
   "cell_type": "markdown",
   "metadata": {},
   "source": [
    "## 搜索子串\n",
    "![](../Photo/100.png)"
   ]
  },
  {
   "cell_type": "code",
   "execution_count": 2,
   "metadata": {},
   "outputs": [
    {
     "data": {
      "text/plain": [
       "5"
      ]
     },
     "execution_count": 2,
     "metadata": {},
     "output_type": "execute_result"
    }
   ],
   "source": [
    "b = '对符合合，设计厚度是多少嗲是金黄色的'\n",
    "b.find('设计')"
   ]
  },
  {
   "cell_type": "code",
   "execution_count": 3,
   "metadata": {},
   "outputs": [
    {
     "data": {
      "text/plain": [
       "3"
      ]
     },
     "execution_count": 3,
     "metadata": {},
     "output_type": "execute_result"
    }
   ],
   "source": [
    "b.rfind('合')"
   ]
  },
  {
   "cell_type": "code",
   "execution_count": 15,
   "metadata": {},
   "outputs": [],
   "source": [
    "def Search(index):\n",
    "    path = '/Users/lenovo/Desktop/mail.txt'\n",
    "    with open(file=path,mode='r')as C:\n",
    "        for i in range(10000):\n",
    "            line = C.readline()\n",
    "            if line.find(name) != -1:\n",
    "                print(line)\n",
    "            break"
   ]
  },
  {
   "cell_type": "code",
   "execution_count": null,
   "metadata": {},
   "outputs": [],
   "source": []
  },
  {
   "cell_type": "markdown",
   "metadata": {},
   "source": [
    "## 转换字符串\n",
    "![](../Photo/101.png)"
   ]
  },
  {
   "cell_type": "code",
   "execution_count": 17,
   "metadata": {},
   "outputs": [
    {
     "name": "stdout",
     "output_type": "stream",
     "text": [
      " LI Li LIU\n"
     ]
    },
    {
     "data": {
      "text/plain": [
       "' LI Li '"
      ]
     },
     "execution_count": 17,
     "metadata": {},
     "output_type": "execute_result"
    }
   ],
   "source": [
    "a = ' LI Li LIU'\n",
    "print(a)\n",
    "a.strip('LIU')"
   ]
  },
  {
   "cell_type": "code",
   "execution_count": null,
   "metadata": {},
   "outputs": [],
   "source": []
  },
  {
   "cell_type": "markdown",
   "metadata": {},
   "source": [
    "## 删除字符串\n",
    "![](../Photo/146.png)"
   ]
  },
  {
   "cell_type": "markdown",
   "metadata": {},
   "source": [
    "## 格式化字符串\n",
    "![](../Photo/103.png)"
   ]
  },
  {
   "cell_type": "code",
   "execution_count": 18,
   "metadata": {},
   "outputs": [
    {
     "data": {
      "text/plain": [
       "'  *'"
      ]
     },
     "execution_count": 18,
     "metadata": {},
     "output_type": "execute_result"
    }
   ],
   "source": [
    "'*'.rjust(3)"
   ]
  },
  {
   "cell_type": "code",
   "execution_count": null,
   "metadata": {},
   "outputs": [],
   "source": []
  },
  {
   "cell_type": "markdown",
   "metadata": {},
   "source": [
    "## EP:\n",
    "- 1\n",
    "![](../Photo/104.png)\n",
    "- 2 \n",
    "    随机参数100个数字，将www.baidu.com/?page=进行拼接"
   ]
  },
  {
   "cell_type": "markdown",
   "metadata": {},
   "source": [
    "## Python高级使用方法 -- 字符串\n",
    "- 我们经常使用的方法实际上就是调用Python的运算重载\n",
    "![](../Photo/105.png)"
   ]
  },
  {
   "cell_type": "code",
   "execution_count": 1,
   "metadata": {},
   "outputs": [
    {
     "name": "stdout",
     "output_type": "stream",
     "text": [
      "a\n",
      "b\n",
      "c\n",
      "d\n"
     ]
    }
   ],
   "source": [
    "n = 'abcd'\n",
    "i = 0\n",
    "while i<len(n):\n",
    "    print(n[i])\n",
    "    i+=1"
   ]
  },
  {
   "cell_type": "markdown",
   "metadata": {},
   "source": [
    "# Homework\n",
    "- 1\n",
    "![](../Photo/106.png)"
   ]
  },
  {
   "cell_type": "code",
   "execution_count": 7,
   "metadata": {},
   "outputs": [],
   "source": [
    "def mima():\n",
    "    d = input('请输入密码')\n",
    "    if d[0:3].isdigit() == 1 and d[4:6].isdigit()==1 and d[7:10].isdigit() == 1:\n",
    "        #isdigit字符串中只含有数字字符返回True\n",
    "        #判断号码的第1到第3、第5到第6、第8到第11位是否为数字\n",
    "        print('Valid SSN')\n",
    "    else:\n",
    "        print('Invalid SSSN')"
   ]
  },
  {
   "cell_type": "code",
   "execution_count": 8,
   "metadata": {},
   "outputs": [
    {
     "name": "stdout",
     "output_type": "stream",
     "text": [
      "请输入密码232-34-6543\n",
      "Valid SSN\n"
     ]
    }
   ],
   "source": [
    "n = mima()"
   ]
  },
  {
   "cell_type": "markdown",
   "metadata": {},
   "source": [
    "- 2\n",
    "![](../Photo/107.png)"
   ]
  },
  {
   "cell_type": "code",
   "execution_count": 9,
   "metadata": {},
   "outputs": [],
   "source": [
    "def word():\n",
    "    x=input('请输入字符串')\n",
    "    y=input('请输入字符串')\n",
    "    if y.find(x)>0:#搜索子串\n",
    "        print('第一个字符串是第二个字符串的子串')\n",
    "    else:\n",
    "        print('第一个字符串不是第二个字符串的子串')"
   ]
  },
  {
   "cell_type": "code",
   "execution_count": 10,
   "metadata": {},
   "outputs": [
    {
     "name": "stdout",
     "output_type": "stream",
     "text": [
      "请输入字符串uydbfg\n",
      "请输入字符串fg\n",
      "第一个字符串不是第二个字符串的子串\n"
     ]
    }
   ],
   "source": [
    "n=word()"
   ]
  },
  {
   "cell_type": "markdown",
   "metadata": {},
   "source": [
    "- 3\n",
    "![](../Photo/108.png)"
   ]
  },
  {
   "cell_type": "code",
   "execution_count": 13,
   "metadata": {},
   "outputs": [],
   "source": [
    "def mima():\n",
    "    password = input(\">>\")\n",
    "    n1 = 0 #大写\n",
    "    n2 = 0 #小写\n",
    "    n3 = 0 #数字\n",
    "    if len(password) <= 8:#规定长度至少有8个字符\n",
    "        print('密码必须大于8位')\n",
    "    for i in password:\n",
    "        if i.isupper():#判断是否有大写\n",
    "            n1 +=1\n",
    "        if i.islower():#判断是否有小写\n",
    "            n2+=1\n",
    "        if i.isdigit():#判断是否有数字\n",
    "            n3+=1\n",
    "    if n1 == 0 and n2 == 0:#判断密码中是否有字母\n",
    "        print('Invalid  password')\n",
    "    if n3 == 0:#判断密码中是否有数字\n",
    "        print('Invalid  password')\n",
    "    if n3<2:#判断密码是否至少包含两个数字\n",
    "        print('Invalid  password')\n",
    "    else:\n",
    "        print('valid  password')    "
   ]
  },
  {
   "cell_type": "code",
   "execution_count": 14,
   "metadata": {},
   "outputs": [
    {
     "name": "stdout",
     "output_type": "stream",
     "text": [
      ">>UEB5647hsgs\n",
      "valid  password\n"
     ]
    }
   ],
   "source": [
    "n=mima()"
   ]
  },
  {
   "cell_type": "markdown",
   "metadata": {},
   "source": [
    "- 4\n",
    "![](../Photo/109.png)"
   ]
  },
  {
   "cell_type": "code",
   "execution_count": 17,
   "metadata": {},
   "outputs": [],
   "source": [
    "def countletters():\n",
    "    password = input(\">>\")\n",
    "    n1 = 0 #大写\n",
    "    n2 = 0 #小写\n",
    "    for i in password:\n",
    "        if i.isupper():#判断是否有大写\n",
    "            n1 +=1\n",
    "        if i.islower():#判断是否有小写\n",
    "            n2+=1\n",
    "    print(n1+n2)#显示字符串中的字母数"
   ]
  },
  {
   "cell_type": "code",
   "execution_count": 18,
   "metadata": {},
   "outputs": [
    {
     "name": "stdout",
     "output_type": "stream",
     "text": [
      ">>dfcgRSGHggd\n",
      "11\n"
     ]
    }
   ],
   "source": [
    "n= countletters()"
   ]
  },
  {
   "cell_type": "markdown",
   "metadata": {},
   "source": [
    "- 5\n",
    "![](../Photo/110.png)"
   ]
  },
  {
   "cell_type": "code",
   "execution_count": null,
   "metadata": {},
   "outputs": [],
   "source": [
    "def getnuber(uppercaseletter):\n",
    "    n = eval(input('请输入电话号码'))"
   ]
  },
  {
   "cell_type": "markdown",
   "metadata": {},
   "source": [
    "- 6\n",
    "![](../Photo/111.png)"
   ]
  },
  {
   "cell_type": "code",
   "execution_count": 27,
   "metadata": {},
   "outputs": [],
   "source": [
    "def reverse(s):\n",
    "    s.reverse()\n",
    "    print(s) "
   ]
  },
  {
   "cell_type": "code",
   "execution_count": 28,
   "metadata": {},
   "outputs": [
    {
     "name": "stdout",
     "output_type": "stream",
     "text": [
      "['g', 'f', 'd', 's']\n"
     ]
    }
   ],
   "source": [
    "reverse(['s','d','f','g'])"
   ]
  },
  {
   "cell_type": "markdown",
   "metadata": {},
   "source": [
    "- 8\n",
    "![](../Photo/113.png)"
   ]
  },
  {
   "cell_type": "code",
   "execution_count": 32,
   "metadata": {},
   "outputs": [
    {
     "name": "stdout",
     "output_type": "stream",
     "text": [
      "请输入数字9\n",
      "请输入数字7\n",
      "请输入数字8\n",
      "请输入数字0\n",
      "请输入数字1\n",
      "请输入数字3\n",
      "请输入数字2\n",
      "请输入数字1\n",
      "请输入数字3\n",
      "请输入数字0\n",
      "请输入数字8\n",
      "请输入数字0\n",
      "9 7 8 0 1 3 2 1 3 0 8 0 6\n"
     ]
    }
   ],
   "source": [
    "d1=eval(input('请输入数字'))\n",
    "d2=eval(input('请输入数字'))\n",
    "d3=eval(input('请输入数字'))\n",
    "d4=eval(input('请输入数字'))\n",
    "d5=eval(input('请输入数字'))\n",
    "d6=eval(input('请输入数字'))\n",
    "d7=eval(input('请输入数字'))\n",
    "d8=eval(input('请输入数字'))\n",
    "d9=eval(input('请输入数字'))\n",
    "d10=eval(input('请输入数字'))\n",
    "d11=eval(input('请输入数字'))\n",
    "d12=eval(input('请输入数字'))\n",
    "d13=10-(d1+3*d2+d3+3*d4+d5+3*d6+d7+3*d8+d9+3*d10+d11+3*d12)%10\n",
    "if d13==10:\n",
    "    d13=0\n",
    "print(d1,d2,d3,d4,d5,d6,d7,d8,d9,d10,d11,d12,d13)"
   ]
  },
  {
   "cell_type": "markdown",
   "metadata": {},
   "source": [
    "- 9\n",
    "![](../Photo/114.png)"
   ]
  }
 ],
 "metadata": {
  "kernelspec": {
   "display_name": "Python 3",
   "language": "python",
   "name": "python3"
  },
  "language_info": {
   "codemirror_mode": {
    "name": "ipython",
    "version": 3
   },
   "file_extension": ".py",
   "mimetype": "text/x-python",
   "name": "python",
   "nbconvert_exporter": "python",
   "pygments_lexer": "ipython3",
   "version": "3.7.3"
  }
 },
 "nbformat": 4,
 "nbformat_minor": 2
}
